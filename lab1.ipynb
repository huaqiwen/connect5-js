{
  "nbformat": 4,
  "nbformat_minor": 0,
  "metadata": {
    "colab": {
      "name": "lab1.ipynb",
      "provenance": [],
      "authorship_tag": "ABX9TyNs2jehZXZGBsrWtQQ/u1eU",
      "include_colab_link": true
    },
    "kernelspec": {
      "name": "python3",
      "display_name": "Python 3"
    }
  },
  "cells": [
    {
      "cell_type": "markdown",
      "metadata": {
        "id": "view-in-github",
        "colab_type": "text"
      },
      "source": [
        "<a href=\"https://colab.research.google.com/github/huaqiwen/connect5-js/blob/master/lab1.ipynb\" target=\"_parent\"><img src=\"https://colab.research.google.com/assets/colab-badge.svg\" alt=\"Open In Colab\"/></a>"
      ]
    },
    {
      "cell_type": "markdown",
      "metadata": {
        "id": "5bE9yicHBEgz"
      },
      "source": [
        "# Pandas"
      ]
    },
    {
      "cell_type": "code",
      "metadata": {
        "id": "7oqaYmMb08pJ"
      },
      "source": [
        "import pandas as pd"
      ],
      "execution_count": 10,
      "outputs": []
    },
    {
      "cell_type": "code",
      "metadata": {
        "id": "582ErSnS1BE7"
      },
      "source": [
        "df_dict = {\r\n",
        "    'id': ['id1','id2','id3','id4','id5','id6'],\r\n",
        "    'v1': [1,2,3,4,5,6],\r\n",
        "    'v2': ['t','t','f','t','f','f'],\r\n",
        "    'v3': [6.3,9.2,3.3,8.9,4.7,7.2],\r\n",
        "    'v4': ['t','t','f','t','t','f'],\r\n",
        "    'v_date' : pd.date_range(start='2021-01-07',end='2021-01-12'),\r\n",
        "}"
      ],
      "execution_count": 12,
      "outputs": []
    },
    {
      "cell_type": "code",
      "metadata": {
        "colab": {
          "base_uri": "https://localhost:8080/",
          "height": 235
        },
        "id": "f9xyzv4I2BuL",
        "outputId": "543f08a6-2143-4f91-d1e0-e76d4ef952fe"
      },
      "source": [
        "my_df = pd.DataFrame(df_dict, index = df_dict['id'])\r\n",
        "my_df"
      ],
      "execution_count": 14,
      "outputs": [
        {
          "output_type": "execute_result",
          "data": {
            "text/html": [
              "<div>\n",
              "<style scoped>\n",
              "    .dataframe tbody tr th:only-of-type {\n",
              "        vertical-align: middle;\n",
              "    }\n",
              "\n",
              "    .dataframe tbody tr th {\n",
              "        vertical-align: top;\n",
              "    }\n",
              "\n",
              "    .dataframe thead th {\n",
              "        text-align: right;\n",
              "    }\n",
              "</style>\n",
              "<table border=\"1\" class=\"dataframe\">\n",
              "  <thead>\n",
              "    <tr style=\"text-align: right;\">\n",
              "      <th></th>\n",
              "      <th>id</th>\n",
              "      <th>v1</th>\n",
              "      <th>v2</th>\n",
              "      <th>v3</th>\n",
              "      <th>v4</th>\n",
              "      <th>v_date</th>\n",
              "    </tr>\n",
              "  </thead>\n",
              "  <tbody>\n",
              "    <tr>\n",
              "      <th>id1</th>\n",
              "      <td>id1</td>\n",
              "      <td>1</td>\n",
              "      <td>t</td>\n",
              "      <td>6.3</td>\n",
              "      <td>t</td>\n",
              "      <td>2021-01-07</td>\n",
              "    </tr>\n",
              "    <tr>\n",
              "      <th>id2</th>\n",
              "      <td>id2</td>\n",
              "      <td>2</td>\n",
              "      <td>t</td>\n",
              "      <td>9.2</td>\n",
              "      <td>t</td>\n",
              "      <td>2021-01-08</td>\n",
              "    </tr>\n",
              "    <tr>\n",
              "      <th>id3</th>\n",
              "      <td>id3</td>\n",
              "      <td>3</td>\n",
              "      <td>f</td>\n",
              "      <td>3.3</td>\n",
              "      <td>f</td>\n",
              "      <td>2021-01-09</td>\n",
              "    </tr>\n",
              "    <tr>\n",
              "      <th>id4</th>\n",
              "      <td>id4</td>\n",
              "      <td>4</td>\n",
              "      <td>t</td>\n",
              "      <td>8.9</td>\n",
              "      <td>t</td>\n",
              "      <td>2021-01-10</td>\n",
              "    </tr>\n",
              "    <tr>\n",
              "      <th>id5</th>\n",
              "      <td>id5</td>\n",
              "      <td>5</td>\n",
              "      <td>f</td>\n",
              "      <td>4.7</td>\n",
              "      <td>t</td>\n",
              "      <td>2021-01-11</td>\n",
              "    </tr>\n",
              "    <tr>\n",
              "      <th>id6</th>\n",
              "      <td>id6</td>\n",
              "      <td>6</td>\n",
              "      <td>f</td>\n",
              "      <td>7.2</td>\n",
              "      <td>f</td>\n",
              "      <td>2021-01-12</td>\n",
              "    </tr>\n",
              "  </tbody>\n",
              "</table>\n",
              "</div>"
            ],
            "text/plain": [
              "      id  v1 v2   v3 v4     v_date\n",
              "id1  id1   1  t  6.3  t 2021-01-07\n",
              "id2  id2   2  t  9.2  t 2021-01-08\n",
              "id3  id3   3  f  3.3  f 2021-01-09\n",
              "id4  id4   4  t  8.9  t 2021-01-10\n",
              "id5  id5   5  f  4.7  t 2021-01-11\n",
              "id6  id6   6  f  7.2  f 2021-01-12"
            ]
          },
          "metadata": {
            "tags": []
          },
          "execution_count": 14
        }
      ]
    },
    {
      "cell_type": "code",
      "metadata": {
        "colab": {
          "base_uri": "https://localhost:8080/"
        },
        "id": "pxstMh2t3LnQ",
        "outputId": "7397a877-ddff-4379-eed1-41384690c614"
      },
      "source": [
        "my_df.iloc[0]   # 1st row"
      ],
      "execution_count": 15,
      "outputs": [
        {
          "output_type": "execute_result",
          "data": {
            "text/plain": [
              "id                        id1\n",
              "v1                          1\n",
              "v2                          t\n",
              "v3                        6.3\n",
              "v4                          t\n",
              "v_date    2021-01-07 00:00:00\n",
              "Name: id1, dtype: object"
            ]
          },
          "metadata": {
            "tags": []
          },
          "execution_count": 15
        }
      ]
    },
    {
      "cell_type": "code",
      "metadata": {
        "colab": {
          "base_uri": "https://localhost:8080/",
          "height": 35
        },
        "id": "m8Q_uHcG3bji",
        "outputId": "b919b7b8-918a-46f7-bb3a-f648a95bca34"
      },
      "source": [
        "my_df.iloc[0, 0]    # 1st row, 1st col"
      ],
      "execution_count": 16,
      "outputs": [
        {
          "output_type": "execute_result",
          "data": {
            "application/vnd.google.colaboratory.intrinsic+json": {
              "type": "string"
            },
            "text/plain": [
              "'id1'"
            ]
          },
          "metadata": {
            "tags": []
          },
          "execution_count": 16
        }
      ]
    },
    {
      "cell_type": "code",
      "metadata": {
        "colab": {
          "base_uri": "https://localhost:8080/"
        },
        "id": "H5bn4cR43iAR",
        "outputId": "386c45b0-4eb9-4c77-92f1-2b33d54ef53a"
      },
      "source": [
        "my_df.iloc[:, 1]    # 2nd col (first selects all rows, then 2nd col)"
      ],
      "execution_count": 20,
      "outputs": [
        {
          "output_type": "execute_result",
          "data": {
            "text/plain": [
              "id1    1\n",
              "id2    2\n",
              "id3    3\n",
              "id4    4\n",
              "id5    5\n",
              "id6    6\n",
              "Name: v1, dtype: int64"
            ]
          },
          "metadata": {
            "tags": []
          },
          "execution_count": 20
        }
      ]
    },
    {
      "cell_type": "code",
      "metadata": {
        "colab": {
          "base_uri": "https://localhost:8080/"
        },
        "id": "lYy6jQr433sJ",
        "outputId": "76ded0e4-8b65-4095-b57b-db1dff3a34f7"
      },
      "source": [
        "my_df.loc['id4']"
      ],
      "execution_count": 21,
      "outputs": [
        {
          "output_type": "execute_result",
          "data": {
            "text/plain": [
              "id                        id4\n",
              "v1                          4\n",
              "v2                          t\n",
              "v3                        8.9\n",
              "v4                          t\n",
              "v_date    2021-01-10 00:00:00\n",
              "Name: id4, dtype: object"
            ]
          },
          "metadata": {
            "tags": []
          },
          "execution_count": 21
        }
      ]
    },
    {
      "cell_type": "code",
      "metadata": {
        "colab": {
          "base_uri": "https://localhost:8080/"
        },
        "id": "VZosfuFj3-JL",
        "outputId": "7e8feb5f-2758-4ff8-db88-165e0365fdaf"
      },
      "source": [
        "my_df.loc['id4', 'v1']"
      ],
      "execution_count": 22,
      "outputs": [
        {
          "output_type": "execute_result",
          "data": {
            "text/plain": [
              "4"
            ]
          },
          "metadata": {
            "tags": []
          },
          "execution_count": 22
        }
      ]
    },
    {
      "cell_type": "code",
      "metadata": {
        "colab": {
          "base_uri": "https://localhost:8080/",
          "height": 111
        },
        "id": "6NVts1xO4s3j",
        "outputId": "7c291475-9dce-4ad5-8db0-58cd00ad3753"
      },
      "source": [
        "# conditions\r\n",
        "my_df[my_df.v_date > '2021-01-10']"
      ],
      "execution_count": 28,
      "outputs": [
        {
          "output_type": "execute_result",
          "data": {
            "text/html": [
              "<div>\n",
              "<style scoped>\n",
              "    .dataframe tbody tr th:only-of-type {\n",
              "        vertical-align: middle;\n",
              "    }\n",
              "\n",
              "    .dataframe tbody tr th {\n",
              "        vertical-align: top;\n",
              "    }\n",
              "\n",
              "    .dataframe thead th {\n",
              "        text-align: right;\n",
              "    }\n",
              "</style>\n",
              "<table border=\"1\" class=\"dataframe\">\n",
              "  <thead>\n",
              "    <tr style=\"text-align: right;\">\n",
              "      <th></th>\n",
              "      <th>id</th>\n",
              "      <th>v1</th>\n",
              "      <th>v2</th>\n",
              "      <th>v3</th>\n",
              "      <th>v4</th>\n",
              "      <th>v_date</th>\n",
              "    </tr>\n",
              "  </thead>\n",
              "  <tbody>\n",
              "    <tr>\n",
              "      <th>id5</th>\n",
              "      <td>id5</td>\n",
              "      <td>5</td>\n",
              "      <td>f</td>\n",
              "      <td>4.7</td>\n",
              "      <td>t</td>\n",
              "      <td>2021-01-11</td>\n",
              "    </tr>\n",
              "    <tr>\n",
              "      <th>id6</th>\n",
              "      <td>id6</td>\n",
              "      <td>6</td>\n",
              "      <td>f</td>\n",
              "      <td>7.2</td>\n",
              "      <td>f</td>\n",
              "      <td>2021-01-12</td>\n",
              "    </tr>\n",
              "  </tbody>\n",
              "</table>\n",
              "</div>"
            ],
            "text/plain": [
              "      id  v1 v2   v3 v4     v_date\n",
              "id5  id5   5  f  4.7  t 2021-01-11\n",
              "id6  id6   6  f  7.2  f 2021-01-12"
            ]
          },
          "metadata": {
            "tags": []
          },
          "execution_count": 28
        }
      ]
    },
    {
      "cell_type": "code",
      "metadata": {
        "colab": {
          "base_uri": "https://localhost:8080/"
        },
        "id": "AlMd-yqA43-6",
        "outputId": "feb0b4ad-fc4a-4b4c-fd26-4bf42f16b894"
      },
      "source": [
        "# shape gives a tuple representing the dimension of a data frame\r\n",
        "my_df[(my_df.v1 > 3) & (my_df.v2 == 'f')].shape"
      ],
      "execution_count": 30,
      "outputs": [
        {
          "output_type": "execute_result",
          "data": {
            "text/plain": [
              "(2, 6)"
            ]
          },
          "metadata": {
            "tags": []
          },
          "execution_count": 30
        }
      ]
    },
    {
      "cell_type": "code",
      "metadata": {
        "colab": {
          "base_uri": "https://localhost:8080/",
          "height": 297
        },
        "id": "ivZTPLMF53gG",
        "outputId": "562856f7-116d-4033-82ac-b1cd4c01c127"
      },
      "source": [
        "# summarize \r\n",
        "my_df.describe()"
      ],
      "execution_count": 31,
      "outputs": [
        {
          "output_type": "execute_result",
          "data": {
            "text/html": [
              "<div>\n",
              "<style scoped>\n",
              "    .dataframe tbody tr th:only-of-type {\n",
              "        vertical-align: middle;\n",
              "    }\n",
              "\n",
              "    .dataframe tbody tr th {\n",
              "        vertical-align: top;\n",
              "    }\n",
              "\n",
              "    .dataframe thead th {\n",
              "        text-align: right;\n",
              "    }\n",
              "</style>\n",
              "<table border=\"1\" class=\"dataframe\">\n",
              "  <thead>\n",
              "    <tr style=\"text-align: right;\">\n",
              "      <th></th>\n",
              "      <th>v1</th>\n",
              "      <th>v3</th>\n",
              "    </tr>\n",
              "  </thead>\n",
              "  <tbody>\n",
              "    <tr>\n",
              "      <th>count</th>\n",
              "      <td>6.000000</td>\n",
              "      <td>6.00000</td>\n",
              "    </tr>\n",
              "    <tr>\n",
              "      <th>mean</th>\n",
              "      <td>3.500000</td>\n",
              "      <td>6.60000</td>\n",
              "    </tr>\n",
              "    <tr>\n",
              "      <th>std</th>\n",
              "      <td>1.870829</td>\n",
              "      <td>2.32379</td>\n",
              "    </tr>\n",
              "    <tr>\n",
              "      <th>min</th>\n",
              "      <td>1.000000</td>\n",
              "      <td>3.30000</td>\n",
              "    </tr>\n",
              "    <tr>\n",
              "      <th>25%</th>\n",
              "      <td>2.250000</td>\n",
              "      <td>5.10000</td>\n",
              "    </tr>\n",
              "    <tr>\n",
              "      <th>50%</th>\n",
              "      <td>3.500000</td>\n",
              "      <td>6.75000</td>\n",
              "    </tr>\n",
              "    <tr>\n",
              "      <th>75%</th>\n",
              "      <td>4.750000</td>\n",
              "      <td>8.47500</td>\n",
              "    </tr>\n",
              "    <tr>\n",
              "      <th>max</th>\n",
              "      <td>6.000000</td>\n",
              "      <td>9.20000</td>\n",
              "    </tr>\n",
              "  </tbody>\n",
              "</table>\n",
              "</div>"
            ],
            "text/plain": [
              "             v1       v3\n",
              "count  6.000000  6.00000\n",
              "mean   3.500000  6.60000\n",
              "std    1.870829  2.32379\n",
              "min    1.000000  3.30000\n",
              "25%    2.250000  5.10000\n",
              "50%    3.500000  6.75000\n",
              "75%    4.750000  8.47500\n",
              "max    6.000000  9.20000"
            ]
          },
          "metadata": {
            "tags": []
          },
          "execution_count": 31
        }
      ]
    },
    {
      "cell_type": "markdown",
      "metadata": {
        "id": "D0gUFxS1A5Xu"
      },
      "source": [
        "# Matplotlib"
      ]
    },
    {
      "cell_type": "code",
      "metadata": {
        "id": "zTa3gKtF6Wjd"
      },
      "source": [
        "import matplotlib.pyplot as plt"
      ],
      "execution_count": 32,
      "outputs": []
    },
    {
      "cell_type": "code",
      "metadata": {
        "colab": {
          "base_uri": "https://localhost:8080/",
          "height": 279
        },
        "id": "gYhhaW-Q6-Fg",
        "outputId": "b5b0f7ed-3d72-4951-9fbb-60f9c843209f"
      },
      "source": [
        "plt.plot([1, 2, 3, 4], [0, -3, 5, -1], 'r--')    # the last argument is options. '--': dashed line, 'o': points, 'r': red color\r\n",
        "plt.ylabel('my y-axis label')\r\n",
        "plt.xlabel('my x-axis label')\r\n",
        "plt.show()"
      ],
      "execution_count": 35,
      "outputs": [
        {
          "output_type": "display_data",
          "data": {
            "image/png": "[encoded data removed]",
            "text/plain": [
              "<Figure size 432x288 with 1 Axes>"
            ]
          },
          "metadata": {
            "tags": [],
            "needs_background": "light"
          }
        }
      ]
    },
    {
      "cell_type": "code",
      "metadata": {
        "colab": {
          "base_uri": "https://localhost:8080/",
          "height": 265
        },
        "id": "VGJFJX_R9dpP",
        "outputId": "e56100d4-e8b7-4ab3-c0d8-624816b83e82"
      },
      "source": [
        "# use plt.scatter and plot data dict\r\n",
        "# c is for colors, and s is for sizes\r\n",
        "plt.scatter('v1', 'v3', c='v1', s='v3', data=df_dict)\r\n",
        "plt.show()"
      ],
      "execution_count": 38,
      "outputs": [
        {
          "output_type": "display_data",
          "data": {
            "image/png": "[encoded data removed]",
            "text/plain": [
              "<Figure size 432x288 with 1 Axes>"
            ]
          },
          "metadata": {
            "tags": [],
            "needs_background": "light"
          }
        }
      ]
    },
    {
      "cell_type": "code",
      "metadata": {
        "colab": {
          "base_uri": "https://localhost:8080/",
          "height": 142
        },
        "id": "5B0b35Lk-jkc",
        "outputId": "3ed9dd7a-24f5-4a5f-a87e-579562d804a6"
      },
      "source": [
        "# plot the means from v1 for each v2 groups\r\n",
        "v2_means = my_df.groupby(['v2']).mean()\r\n",
        "v2_means"
      ],
      "execution_count": 39,
      "outputs": [
        {
          "output_type": "execute_result",
          "data": {
            "text/html": [
              "<div>\n",
              "<style scoped>\n",
              "    .dataframe tbody tr th:only-of-type {\n",
              "        vertical-align: middle;\n",
              "    }\n",
              "\n",
              "    .dataframe tbody tr th {\n",
              "        vertical-align: top;\n",
              "    }\n",
              "\n",
              "    .dataframe thead th {\n",
              "        text-align: right;\n",
              "    }\n",
              "</style>\n",
              "<table border=\"1\" class=\"dataframe\">\n",
              "  <thead>\n",
              "    <tr style=\"text-align: right;\">\n",
              "      <th></th>\n",
              "      <th>v1</th>\n",
              "      <th>v3</th>\n",
              "    </tr>\n",
              "    <tr>\n",
              "      <th>v2</th>\n",
              "      <th></th>\n",
              "      <th></th>\n",
              "    </tr>\n",
              "  </thead>\n",
              "  <tbody>\n",
              "    <tr>\n",
              "      <th>f</th>\n",
              "      <td>4.666667</td>\n",
              "      <td>5.066667</td>\n",
              "    </tr>\n",
              "    <tr>\n",
              "      <th>t</th>\n",
              "      <td>2.333333</td>\n",
              "      <td>8.133333</td>\n",
              "    </tr>\n",
              "  </tbody>\n",
              "</table>\n",
              "</div>"
            ],
            "text/plain": [
              "          v1        v3\n",
              "v2                    \n",
              "f   4.666667  5.066667\n",
              "t   2.333333  8.133333"
            ]
          },
          "metadata": {
            "tags": []
          },
          "execution_count": 39
        }
      ]
    },
    {
      "cell_type": "code",
      "metadata": {
        "colab": {
          "base_uri": "https://localhost:8080/",
          "height": 279
        },
        "id": "T9rD6SiJ_COu",
        "outputId": "eaf47a6e-b48d-4e3a-98b3-16dba2c574d5"
      },
      "source": [
        "# plot the means from v1 for each v2 groups CONT'D\r\n",
        "plt.bar(v2_means.index, v2_means.v1)\r\n",
        "plt.xlabel('v2 group')\r\n",
        "plt.ylabel('v1 means')\r\n",
        "plt.show()"
      ],
      "execution_count": 40,
      "outputs": [
        {
          "output_type": "display_data",
          "data": {
            "image/png": "[encoded data removed]",
            "text/plain": [
              "<Figure size 432x288 with 1 Axes>"
            ]
          },
          "metadata": {
            "tags": [],
            "needs_background": "light"
          }
        }
      ]
    },
    {
      "cell_type": "markdown",
      "metadata": {
        "id": "776xUtF5BKS-"
      },
      "source": [
        "# Seaborn"
      ]
    },
    {
      "cell_type": "code",
      "metadata": {
        "id": "rt9McsOIBMQm"
      },
      "source": [
        "import seaborn as sns"
      ],
      "execution_count": 41,
      "outputs": []
    },
    {
      "cell_type": "code",
      "metadata": {
        "colab": {
          "base_uri": "https://localhost:8080/",
          "height": 401
        },
        "id": "8kdtFcMVBOyG",
        "outputId": "5dad2abe-7c0a-4435-ec67-e83dd6e22289"
      },
      "source": [
        "# create a plot of v1 vs v3, colored by v2\r\n",
        "sns.relplot(data=my_df, x='v1', y='v3', hue='v2')"
      ],
      "execution_count": 44,
      "outputs": [
        {
          "output_type": "execute_result",
          "data": {
            "text/plain": [
              "<seaborn.axisgrid.FacetGrid at 0x7f17b12c57b8>"
            ]
          },
          "metadata": {
            "tags": []
          },
          "execution_count": 44
        },
        {
          "output_type": "display_data",
          "data": {
            "image/png": "[encoded data removed]",
            "text/plain": [
              "<Figure size 399.875x360 with 1 Axes>"
            ]
          },
          "metadata": {
            "tags": [],
            "needs_background": "light"
          }
        }
      ]
    },
    {
      "cell_type": "code",
      "metadata": {
        "colab": {
          "base_uri": "https://localhost:8080/",
          "height": 430
        },
        "id": "oiQGieZKCMYI",
        "outputId": "896ef51b-50f7-45c1-febe-9c25b198373a"
      },
      "source": [
        "# some other options\r\n",
        "my_plot = sns.relplot(data=my_df, x='v_date', y='v3', hue='v2', style='v2', kind='line')\r\n",
        "my_plot.set_xticklabels(rotation = 30)    # rotate x label to avoid overlaps"
      ],
      "execution_count": 51,
      "outputs": [
        {
          "output_type": "execute_result",
          "data": {
            "text/plain": [
              "<seaborn.axisgrid.FacetGrid at 0x7f17b104d828>"
            ]
          },
          "metadata": {
            "tags": []
          },
          "execution_count": 51
        },
        {
          "output_type": "display_data",
          "data": {
            "image/png": "[encoded data removed]",
            "text/plain": [
              "<Figure size 399.875x360 with 1 Axes>"
            ]
          },
          "metadata": {
            "tags": [],
            "needs_background": "light"
          }
        }
      ]
    }
  ]
}